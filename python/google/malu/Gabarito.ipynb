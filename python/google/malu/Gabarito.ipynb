{
 "cells": [
  {
   "cell_type": "markdown",
   "metadata": {},
   "source": [
    "# Automação Web com Python\n",
    "\n",
    "### Python + Selenium\n",
    "\n",
    "- 2 Requisitos:\n",
    "    - Instalar o Selenium\n",
    "    - Baixar o webdriver (chromedriver ou geckodriver)"
   ]
  },
  {
   "cell_type": "code",
   "execution_count": 1,
   "metadata": {},
   "outputs": [],
   "source": [
    "# Para aprendermos a usar, vamos uar o Python para baixar para a gente o Demonstrativo de Resultados da Magazine Luiza\n",
    "\n",
    "# Passo 1: Entrar em https://ri.magazineluiza.com.br/\n",
    "# Passo 2: Clicar em \"Planilha Dinâmica\"\n",
    "# Passo 3: Clicar em \"Clique aqui para fazer o download\""
   ]
  },
  {
   "cell_type": "code",
   "execution_count": 6,
   "metadata": {},
   "outputs": [],
   "source": [
    "from selenium import webdriver\n",
    "\n",
    "navegador = webdriver.Chrome()\n",
    "\n",
    "navegador.get(\"https://ri.magazineluiza.com.br/\")\n",
    "navegador.find_element_by_xpath('//*[@id=\"owl-destaques\"]/div[1]/div/div[4]/div/a/img').click()\n",
    "navegador.find_element_by_xpath('//*[@id=\"D6OClzrGtocpQRELDA4Klw==\"]').click()"
   ]
  },
  {
   "cell_type": "code",
   "execution_count": null,
   "metadata": {},
   "outputs": [],
   "source": []
  }
 ],
 "metadata": {
  "kernelspec": {
   "display_name": "Python 3",
   "language": "python",
   "name": "python3"
  },
  "language_info": {
   "codemirror_mode": {
    "name": "ipython",
    "version": 3
   },
   "file_extension": ".py",
   "mimetype": "text/x-python",
   "name": "python",
   "nbconvert_exporter": "python",
   "pygments_lexer": "ipython3",
   "version": "3.8.5"
  }
 },
 "nbformat": 4,
 "nbformat_minor": 4
}
