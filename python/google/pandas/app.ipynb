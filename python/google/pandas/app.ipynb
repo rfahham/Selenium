{
 "cells": [
  {
   "cell_type": "markdown",
   "metadata": {},
   "source": [
    "# Python + Selenium + Pandas"
   ]
  },
  {
   "cell_type": "markdown",
   "metadata": {},
   "source": [
    "## Importando bibliotecas"
   ]
  },
  {
   "cell_type": "code",
   "execution_count": 39,
   "metadata": {},
   "outputs": [],
   "source": [
    "import pandas as pd\n",
    "\n",
    "from time import sleep\n",
    "from selenium import webdriver\n",
    "from selenium.webdriver.chrome.service import Service\n",
    "from selenium.webdriver.common.by import By"
   ]
  },
  {
   "cell_type": "markdown",
   "metadata": {},
   "source": [
    "## Criando uma instância do Chrome - Navegador"
   ]
  },
  {
   "cell_type": "code",
   "execution_count": 40,
   "metadata": {},
   "outputs": [],
   "source": [
    "service = Service()\n",
    "options = webdriver.ChromeOptions()\n",
    "driver = webdriver.Chrome(service=service, options=options)"
   ]
  },
  {
   "cell_type": "markdown",
   "metadata": {},
   "source": [
    "## Acessando a página"
   ]
  },
  {
   "cell_type": "code",
   "execution_count": 41,
   "metadata": {},
   "outputs": [],
   "source": [
    "url = \"https://books.toscrape.com/\"\n",
    "\n",
    "driver.get(url)\n",
    "\n",
    "sleep(5)"
   ]
  },
  {
   "cell_type": "markdown",
   "metadata": {},
   "source": [
    "## Encontrar um elemento pela TAG"
   ]
  },
  {
   "cell_type": "code",
   "execution_count": 42,
   "metadata": {},
   "outputs": [
    {
     "data": {
      "text/plain": [
       "'A Light in the ...'"
      ]
     },
     "execution_count": 42,
     "metadata": {},
     "output_type": "execute_result"
    }
   ],
   "source": [
    "driver.find_elements(By.TAG_NAME, 'a')[54].text"
   ]
  },
  {
   "cell_type": "code",
   "execution_count": 43,
   "metadata": {},
   "outputs": [
    {
     "data": {
      "text/plain": [
       "'A Light in the Attic'"
      ]
     },
     "execution_count": 43,
     "metadata": {},
     "output_type": "execute_result"
    }
   ],
   "source": [
    "driver.find_elements(By.TAG_NAME, 'a')[54].get_attribute('title')"
   ]
  },
  {
   "cell_type": "markdown",
   "metadata": {},
   "source": [
    "## Pegar os títulos de uma página"
   ]
  },
  {
   "cell_type": "code",
   "execution_count": 44,
   "metadata": {},
   "outputs": [
    {
     "data": {
      "text/plain": [
       "[<selenium.webdriver.remote.webelement.WebElement (session=\"71a402715efe6d6ed85ba49ef18006f5\", element=\"f.47A01443444FA2966A0E50465A5A2EA5.d.F960F692EB90190232954E2741A78881.e.117\")>,\n",
       " <selenium.webdriver.remote.webelement.WebElement (session=\"71a402715efe6d6ed85ba49ef18006f5\", element=\"f.47A01443444FA2966A0E50465A5A2EA5.d.F960F692EB90190232954E2741A78881.e.119\")>,\n",
       " <selenium.webdriver.remote.webelement.WebElement (session=\"71a402715efe6d6ed85ba49ef18006f5\", element=\"f.47A01443444FA2966A0E50465A5A2EA5.d.F960F692EB90190232954E2741A78881.e.121\")>,\n",
       " <selenium.webdriver.remote.webelement.WebElement (session=\"71a402715efe6d6ed85ba49ef18006f5\", element=\"f.47A01443444FA2966A0E50465A5A2EA5.d.F960F692EB90190232954E2741A78881.e.123\")>,\n",
       " <selenium.webdriver.remote.webelement.WebElement (session=\"71a402715efe6d6ed85ba49ef18006f5\", element=\"f.47A01443444FA2966A0E50465A5A2EA5.d.F960F692EB90190232954E2741A78881.e.125\")>,\n",
       " <selenium.webdriver.remote.webelement.WebElement (session=\"71a402715efe6d6ed85ba49ef18006f5\", element=\"f.47A01443444FA2966A0E50465A5A2EA5.d.F960F692EB90190232954E2741A78881.e.127\")>,\n",
       " <selenium.webdriver.remote.webelement.WebElement (session=\"71a402715efe6d6ed85ba49ef18006f5\", element=\"f.47A01443444FA2966A0E50465A5A2EA5.d.F960F692EB90190232954E2741A78881.e.129\")>,\n",
       " <selenium.webdriver.remote.webelement.WebElement (session=\"71a402715efe6d6ed85ba49ef18006f5\", element=\"f.47A01443444FA2966A0E50465A5A2EA5.d.F960F692EB90190232954E2741A78881.e.131\")>,\n",
       " <selenium.webdriver.remote.webelement.WebElement (session=\"71a402715efe6d6ed85ba49ef18006f5\", element=\"f.47A01443444FA2966A0E50465A5A2EA5.d.F960F692EB90190232954E2741A78881.e.133\")>,\n",
       " <selenium.webdriver.remote.webelement.WebElement (session=\"71a402715efe6d6ed85ba49ef18006f5\", element=\"f.47A01443444FA2966A0E50465A5A2EA5.d.F960F692EB90190232954E2741A78881.e.135\")>,\n",
       " <selenium.webdriver.remote.webelement.WebElement (session=\"71a402715efe6d6ed85ba49ef18006f5\", element=\"f.47A01443444FA2966A0E50465A5A2EA5.d.F960F692EB90190232954E2741A78881.e.137\")>,\n",
       " <selenium.webdriver.remote.webelement.WebElement (session=\"71a402715efe6d6ed85ba49ef18006f5\", element=\"f.47A01443444FA2966A0E50465A5A2EA5.d.F960F692EB90190232954E2741A78881.e.139\")>,\n",
       " <selenium.webdriver.remote.webelement.WebElement (session=\"71a402715efe6d6ed85ba49ef18006f5\", element=\"f.47A01443444FA2966A0E50465A5A2EA5.d.F960F692EB90190232954E2741A78881.e.141\")>,\n",
       " <selenium.webdriver.remote.webelement.WebElement (session=\"71a402715efe6d6ed85ba49ef18006f5\", element=\"f.47A01443444FA2966A0E50465A5A2EA5.d.F960F692EB90190232954E2741A78881.e.143\")>,\n",
       " <selenium.webdriver.remote.webelement.WebElement (session=\"71a402715efe6d6ed85ba49ef18006f5\", element=\"f.47A01443444FA2966A0E50465A5A2EA5.d.F960F692EB90190232954E2741A78881.e.145\")>,\n",
       " <selenium.webdriver.remote.webelement.WebElement (session=\"71a402715efe6d6ed85ba49ef18006f5\", element=\"f.47A01443444FA2966A0E50465A5A2EA5.d.F960F692EB90190232954E2741A78881.e.147\")>,\n",
       " <selenium.webdriver.remote.webelement.WebElement (session=\"71a402715efe6d6ed85ba49ef18006f5\", element=\"f.47A01443444FA2966A0E50465A5A2EA5.d.F960F692EB90190232954E2741A78881.e.149\")>,\n",
       " <selenium.webdriver.remote.webelement.WebElement (session=\"71a402715efe6d6ed85ba49ef18006f5\", element=\"f.47A01443444FA2966A0E50465A5A2EA5.d.F960F692EB90190232954E2741A78881.e.151\")>,\n",
       " <selenium.webdriver.remote.webelement.WebElement (session=\"71a402715efe6d6ed85ba49ef18006f5\", element=\"f.47A01443444FA2966A0E50465A5A2EA5.d.F960F692EB90190232954E2741A78881.e.153\")>,\n",
       " <selenium.webdriver.remote.webelement.WebElement (session=\"71a402715efe6d6ed85ba49ef18006f5\", element=\"f.47A01443444FA2966A0E50465A5A2EA5.d.F960F692EB90190232954E2741A78881.e.155\")>]"
      ]
     },
     "execution_count": 44,
     "metadata": {},
     "output_type": "execute_result"
    }
   ],
   "source": [
    "driver.find_elements(By.TAG_NAME, 'a')[54:94:2]"
   ]
  },
  {
   "cell_type": "markdown",
   "metadata": {},
   "source": [
    "## Jogando a lista para uma variável"
   ]
  },
  {
   "cell_type": "code",
   "execution_count": 45,
   "metadata": {},
   "outputs": [],
   "source": [
    "titleElements = driver.find_elements(By.TAG_NAME, 'a')[54:94:2]"
   ]
  },
  {
   "cell_type": "markdown",
   "metadata": {},
   "source": [
    "## Verificando a quantidade de livros"
   ]
  },
  {
   "cell_type": "code",
   "execution_count": 47,
   "metadata": {},
   "outputs": [
    {
     "data": {
      "text/plain": [
       "20"
      ]
     },
     "execution_count": 47,
     "metadata": {},
     "output_type": "execute_result"
    }
   ],
   "source": [
    "len(driver.find_elements(By.TAG_NAME, 'a')[54:94:2])"
   ]
  },
  {
   "cell_type": "markdown",
   "metadata": {},
   "source": [
    "Criando uma list comprehension"
   ]
  },
  {
   "cell_type": "code",
   "execution_count": 48,
   "metadata": {},
   "outputs": [],
   "source": [
    "titleList = [title.get_attribute('title') for title in titleElements]"
   ]
  },
  {
   "cell_type": "markdown",
   "metadata": {},
   "source": [
    "## Pegar a quantidade dos livros"
   ]
  },
  {
   "cell_type": "markdown",
   "metadata": {},
   "source": [
    "### Clicando no link do livro"
   ]
  },
  {
   "cell_type": "code",
   "execution_count": 49,
   "metadata": {},
   "outputs": [],
   "source": [
    "titleElements = driver.find_elements(By.TAG_NAME, 'a')[54:94:2]\n",
    "\n",
    "titleElements[0].click()"
   ]
  },
  {
   "cell_type": "markdown",
   "metadata": {},
   "source": [
    "### Localizar pela classe"
   ]
  },
  {
   "cell_type": "code",
   "execution_count": 51,
   "metadata": {},
   "outputs": [
    {
     "data": {
      "text/plain": [
       "'In stock (22 available)'"
      ]
     },
     "execution_count": 51,
     "metadata": {},
     "output_type": "execute_result"
    }
   ],
   "source": [
    "driver.find_element(By.CLASS_NAME, 'instock')\n",
    "\n",
    "driver.find_element(By.CLASS_NAME, 'instock').text"
   ]
  },
  {
   "cell_type": "markdown",
   "metadata": {},
   "source": [
    "### Removendo informações da resposta"
   ]
  },
  {
   "cell_type": "code",
   "execution_count": 53,
   "metadata": {},
   "outputs": [
    {
     "data": {
      "text/plain": [
       "22"
      ]
     },
     "execution_count": 53,
     "metadata": {},
     "output_type": "execute_result"
    }
   ],
   "source": [
    "int(driver.find_element(By.CLASS_NAME, 'instock').text.replace('In stock (', '').replace(' available)', ''))"
   ]
  },
  {
   "cell_type": "code",
   "execution_count": 54,
   "metadata": {},
   "outputs": [],
   "source": [
    "driver.back()"
   ]
  },
  {
   "cell_type": "markdown",
   "metadata": {},
   "source": [
    "### Pegar a quantidade de todos os livros da página"
   ]
  },
  {
   "cell_type": "code",
   "execution_count": 55,
   "metadata": {},
   "outputs": [],
   "source": [
    "titleElements = driver.find_elements(By.TAG_NAME, 'a')[54:94:2]\n",
    "\n",
    "stocklist = []\n",
    "\n",
    "for title in titleElements:\n",
    "\n",
    "    title.click()\n",
    "\n",
    "    quantidadestock = int(driver.find_element(By.CLASS_NAME, 'instock').text.replace('In stock (', '').replace(' available)', ''))\n",
    "\n",
    "    stocklist.append(quantidadestock)\n",
    "\n",
    "    driver.back()"
   ]
  },
  {
   "cell_type": "code",
   "execution_count": 56,
   "metadata": {},
   "outputs": [
    {
     "data": {
      "text/plain": [
       "[22,\n",
       " 20,\n",
       " 20,\n",
       " 20,\n",
       " 20,\n",
       " 19,\n",
       " 19,\n",
       " 19,\n",
       " 19,\n",
       " 19,\n",
       " 19,\n",
       " 19,\n",
       " 19,\n",
       " 19,\n",
       " 19,\n",
       " 19,\n",
       " 19,\n",
       " 19,\n",
       " 19,\n",
       " 19]"
      ]
     },
     "execution_count": 56,
     "metadata": {},
     "output_type": "execute_result"
    }
   ],
   "source": [
    "stocklist"
   ]
  },
  {
   "cell_type": "markdown",
   "metadata": {},
   "source": [
    "### Criando um Data Frame"
   ]
  },
  {
   "cell_type": "code",
   "execution_count": 57,
   "metadata": {},
   "outputs": [
    {
     "data": {
      "text/html": [
       "<div>\n",
       "<style scoped>\n",
       "    .dataframe tbody tr th:only-of-type {\n",
       "        vertical-align: middle;\n",
       "    }\n",
       "\n",
       "    .dataframe tbody tr th {\n",
       "        vertical-align: top;\n",
       "    }\n",
       "\n",
       "    .dataframe thead th {\n",
       "        text-align: right;\n",
       "    }\n",
       "</style>\n",
       "<table border=\"1\" class=\"dataframe\">\n",
       "  <thead>\n",
       "    <tr style=\"text-align: right;\">\n",
       "      <th></th>\n",
       "      <th>title</th>\n",
       "      <th>stock</th>\n",
       "    </tr>\n",
       "  </thead>\n",
       "  <tbody>\n",
       "    <tr>\n",
       "      <th>0</th>\n",
       "      <td>A Light in the Attic</td>\n",
       "      <td>22</td>\n",
       "    </tr>\n",
       "    <tr>\n",
       "      <th>1</th>\n",
       "      <td>Tipping the Velvet</td>\n",
       "      <td>20</td>\n",
       "    </tr>\n",
       "    <tr>\n",
       "      <th>2</th>\n",
       "      <td>Soumission</td>\n",
       "      <td>20</td>\n",
       "    </tr>\n",
       "    <tr>\n",
       "      <th>3</th>\n",
       "      <td>Sharp Objects</td>\n",
       "      <td>20</td>\n",
       "    </tr>\n",
       "    <tr>\n",
       "      <th>4</th>\n",
       "      <td>Sapiens: A Brief History of Humankind</td>\n",
       "      <td>20</td>\n",
       "    </tr>\n",
       "    <tr>\n",
       "      <th>5</th>\n",
       "      <td>The Requiem Red</td>\n",
       "      <td>19</td>\n",
       "    </tr>\n",
       "    <tr>\n",
       "      <th>6</th>\n",
       "      <td>The Dirty Little Secrets of Getting Your Dream...</td>\n",
       "      <td>19</td>\n",
       "    </tr>\n",
       "    <tr>\n",
       "      <th>7</th>\n",
       "      <td>The Coming Woman: A Novel Based on the Life of...</td>\n",
       "      <td>19</td>\n",
       "    </tr>\n",
       "    <tr>\n",
       "      <th>8</th>\n",
       "      <td>The Boys in the Boat: Nine Americans and Their...</td>\n",
       "      <td>19</td>\n",
       "    </tr>\n",
       "    <tr>\n",
       "      <th>9</th>\n",
       "      <td>The Black Maria</td>\n",
       "      <td>19</td>\n",
       "    </tr>\n",
       "    <tr>\n",
       "      <th>10</th>\n",
       "      <td>Starving Hearts (Triangular Trade Trilogy, #1)</td>\n",
       "      <td>19</td>\n",
       "    </tr>\n",
       "    <tr>\n",
       "      <th>11</th>\n",
       "      <td>Shakespeare's Sonnets</td>\n",
       "      <td>19</td>\n",
       "    </tr>\n",
       "    <tr>\n",
       "      <th>12</th>\n",
       "      <td>Set Me Free</td>\n",
       "      <td>19</td>\n",
       "    </tr>\n",
       "    <tr>\n",
       "      <th>13</th>\n",
       "      <td>Scott Pilgrim's Precious Little Life (Scott Pi...</td>\n",
       "      <td>19</td>\n",
       "    </tr>\n",
       "    <tr>\n",
       "      <th>14</th>\n",
       "      <td>Rip it Up and Start Again</td>\n",
       "      <td>19</td>\n",
       "    </tr>\n",
       "    <tr>\n",
       "      <th>15</th>\n",
       "      <td>Our Band Could Be Your Life: Scenes from the A...</td>\n",
       "      <td>19</td>\n",
       "    </tr>\n",
       "    <tr>\n",
       "      <th>16</th>\n",
       "      <td>Olio</td>\n",
       "      <td>19</td>\n",
       "    </tr>\n",
       "    <tr>\n",
       "      <th>17</th>\n",
       "      <td>Mesaerion: The Best Science Fiction Stories 18...</td>\n",
       "      <td>19</td>\n",
       "    </tr>\n",
       "    <tr>\n",
       "      <th>18</th>\n",
       "      <td>Libertarianism for Beginners</td>\n",
       "      <td>19</td>\n",
       "    </tr>\n",
       "    <tr>\n",
       "      <th>19</th>\n",
       "      <td>It's Only the Himalayas</td>\n",
       "      <td>19</td>\n",
       "    </tr>\n",
       "  </tbody>\n",
       "</table>\n",
       "</div>"
      ],
      "text/plain": [
       "                                                title  stock\n",
       "0                                A Light in the Attic     22\n",
       "1                                  Tipping the Velvet     20\n",
       "2                                          Soumission     20\n",
       "3                                       Sharp Objects     20\n",
       "4               Sapiens: A Brief History of Humankind     20\n",
       "5                                     The Requiem Red     19\n",
       "6   The Dirty Little Secrets of Getting Your Dream...     19\n",
       "7   The Coming Woman: A Novel Based on the Life of...     19\n",
       "8   The Boys in the Boat: Nine Americans and Their...     19\n",
       "9                                     The Black Maria     19\n",
       "10     Starving Hearts (Triangular Trade Trilogy, #1)     19\n",
       "11                              Shakespeare's Sonnets     19\n",
       "12                                        Set Me Free     19\n",
       "13  Scott Pilgrim's Precious Little Life (Scott Pi...     19\n",
       "14                          Rip it Up and Start Again     19\n",
       "15  Our Band Could Be Your Life: Scenes from the A...     19\n",
       "16                                               Olio     19\n",
       "17  Mesaerion: The Best Science Fiction Stories 18...     19\n",
       "18                       Libertarianism for Beginners     19\n",
       "19                            It's Only the Himalayas     19"
      ]
     },
     "execution_count": 57,
     "metadata": {},
     "output_type": "execute_result"
    }
   ],
   "source": [
    "dictDF = {'title': titleList,\n",
    "          'stock': stocklist}\n",
    "\n",
    "pd.DataFrame(dictDF)"
   ]
  }
 ],
 "metadata": {
  "kernelspec": {
   "display_name": "Python 3",
   "language": "python",
   "name": "python3"
  },
  "language_info": {
   "codemirror_mode": {
    "name": "ipython",
    "version": 3
   },
   "file_extension": ".py",
   "mimetype": "text/x-python",
   "name": "python",
   "nbconvert_exporter": "python",
   "pygments_lexer": "ipython3",
   "version": "3.10.12"
  }
 },
 "nbformat": 4,
 "nbformat_minor": 2
}
