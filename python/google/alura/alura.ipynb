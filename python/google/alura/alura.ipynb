{
 "cells": [
  {
   "cell_type": "code",
   "execution_count": null,
   "metadata": {},
   "outputs": [],
   "source": [
    "! pip install selenium"
   ]
  },
  {
   "cell_type": "code",
   "execution_count": null,
   "metadata": {},
   "outputs": [],
   "source": [
    "from selenium import webdriver\n",
    "from selenium.webdriver.chrome.options import Options\n",
    "from selenium.webdriver.common.by import By\n",
    "import time"
   ]
  },
  {
   "cell_type": "code",
   "execution_count": null,
   "metadata": {},
   "outputs": [],
   "source": [
    "try:\n",
    "    options = Options()\n",
    "    options.add_experimental_option(\"detach\", True)\n",
    "    driver = webdriver.Chrome(options=options)\n",
    "    driver.get(\"https://www.alura.com.br\")\n",
    "\n",
    "    elemento = driver.find_element(By.XPATH, \"/html/body/main/section[1]/div[2]/div[2]/nav/div/div[1]/div\")\n",
    "    print(elemento.text)\n",
    "    \n",
    "    time.sleep(5)\n",
    "\n",
    "    elemento.click()\n",
    "\n",
    "    time.sleep(5)\n",
    "\n",
    "finally:\n",
    "    # Fechar o navegador\n",
    "    driver.quit()"
   ]
  }
 ],
 "metadata": {
  "language_info": {
   "name": "python"
  }
 },
 "nbformat": 4,
 "nbformat_minor": 2
}
